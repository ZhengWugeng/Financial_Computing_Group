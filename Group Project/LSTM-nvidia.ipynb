{
 "cells": [
  {
   "cell_type": "code",
   "execution_count": 1,
   "metadata": {},
   "outputs": [],
   "source": [
    "import numpy as np\n",
    "import pandas as pd\n",
    "import matplotlib.pyplot as plt\n",
    "from IPython.core.interactiveshell import InteractiveShell\n",
    "InteractiveShell.ast_node_interactivity = \"all\""
   ]
  },
  {
   "cell_type": "code",
   "execution_count": 2,
   "metadata": {},
   "outputs": [
    {
     "data": {
      "text/html": [
       "<div>\n",
       "<style scoped>\n",
       "    .dataframe tbody tr th:only-of-type {\n",
       "        vertical-align: middle;\n",
       "    }\n",
       "\n",
       "    .dataframe tbody tr th {\n",
       "        vertical-align: top;\n",
       "    }\n",
       "\n",
       "    .dataframe thead th {\n",
       "        text-align: right;\n",
       "    }\n",
       "</style>\n",
       "<table border=\"1\" class=\"dataframe\">\n",
       "  <thead>\n",
       "    <tr style=\"text-align: right;\">\n",
       "      <th></th>\n",
       "      <th>Open</th>\n",
       "      <th>High</th>\n",
       "      <th>Low</th>\n",
       "      <th>Close</th>\n",
       "      <th>Volume</th>\n",
       "    </tr>\n",
       "    <tr>\n",
       "      <th>Date</th>\n",
       "      <th></th>\n",
       "      <th></th>\n",
       "      <th></th>\n",
       "      <th></th>\n",
       "      <th></th>\n",
       "    </tr>\n",
       "  </thead>\n",
       "  <tbody>\n",
       "    <tr>\n",
       "      <th>1999-01-22</th>\n",
       "      <td>0.401941</td>\n",
       "      <td>0.448595</td>\n",
       "      <td>0.356484</td>\n",
       "      <td>0.376820</td>\n",
       "      <td>271468800.0</td>\n",
       "    </tr>\n",
       "    <tr>\n",
       "      <th>1999-01-25</th>\n",
       "      <td>0.406726</td>\n",
       "      <td>0.421081</td>\n",
       "      <td>0.376820</td>\n",
       "      <td>0.416296</td>\n",
       "      <td>51048000.0</td>\n",
       "    </tr>\n",
       "    <tr>\n",
       "      <th>1999-01-26</th>\n",
       "      <td>0.421081</td>\n",
       "      <td>0.429455</td>\n",
       "      <td>0.378016</td>\n",
       "      <td>0.383998</td>\n",
       "      <td>34320000.0</td>\n",
       "    </tr>\n",
       "    <tr>\n",
       "      <th>1999-01-27</th>\n",
       "      <td>0.385194</td>\n",
       "      <td>0.394764</td>\n",
       "      <td>0.363661</td>\n",
       "      <td>0.382801</td>\n",
       "      <td>24436800.0</td>\n",
       "    </tr>\n",
       "    <tr>\n",
       "      <th>1999-01-28</th>\n",
       "      <td>0.382801</td>\n",
       "      <td>0.385194</td>\n",
       "      <td>0.379212</td>\n",
       "      <td>0.381605</td>\n",
       "      <td>22752000.0</td>\n",
       "    </tr>\n",
       "    <tr>\n",
       "      <th>...</th>\n",
       "      <td>...</td>\n",
       "      <td>...</td>\n",
       "      <td>...</td>\n",
       "      <td>...</td>\n",
       "      <td>...</td>\n",
       "    </tr>\n",
       "    <tr>\n",
       "      <th>2021-11-08</th>\n",
       "      <td>301.489990</td>\n",
       "      <td>311.000000</td>\n",
       "      <td>299.070007</td>\n",
       "      <td>308.040009</td>\n",
       "      <td>50310100.0</td>\n",
       "    </tr>\n",
       "    <tr>\n",
       "      <th>2021-11-09</th>\n",
       "      <td>322.820007</td>\n",
       "      <td>323.100006</td>\n",
       "      <td>299.640015</td>\n",
       "      <td>306.570007</td>\n",
       "      <td>64674600.0</td>\n",
       "    </tr>\n",
       "    <tr>\n",
       "      <th>2021-11-10</th>\n",
       "      <td>293.559998</td>\n",
       "      <td>308.500000</td>\n",
       "      <td>287.779999</td>\n",
       "      <td>294.589996</td>\n",
       "      <td>63620600.0</td>\n",
       "    </tr>\n",
       "    <tr>\n",
       "      <th>2021-11-11</th>\n",
       "      <td>304.679993</td>\n",
       "      <td>305.899994</td>\n",
       "      <td>297.769989</td>\n",
       "      <td>303.899994</td>\n",
       "      <td>33217200.0</td>\n",
       "    </tr>\n",
       "    <tr>\n",
       "      <th>2021-11-12</th>\n",
       "      <td>300.100006</td>\n",
       "      <td>306.799988</td>\n",
       "      <td>296.299988</td>\n",
       "      <td>303.899994</td>\n",
       "      <td>41215100.0</td>\n",
       "    </tr>\n",
       "  </tbody>\n",
       "</table>\n",
       "<p>5743 rows × 5 columns</p>\n",
       "</div>"
      ],
      "text/plain": [
       "                  Open        High         Low       Close       Volume\n",
       "Date                                                                   \n",
       "1999-01-22    0.401941    0.448595    0.356484    0.376820  271468800.0\n",
       "1999-01-25    0.406726    0.421081    0.376820    0.416296   51048000.0\n",
       "1999-01-26    0.421081    0.429455    0.378016    0.383998   34320000.0\n",
       "1999-01-27    0.385194    0.394764    0.363661    0.382801   24436800.0\n",
       "1999-01-28    0.382801    0.385194    0.379212    0.381605   22752000.0\n",
       "...                ...         ...         ...         ...          ...\n",
       "2021-11-08  301.489990  311.000000  299.070007  308.040009   50310100.0\n",
       "2021-11-09  322.820007  323.100006  299.640015  306.570007   64674600.0\n",
       "2021-11-10  293.559998  308.500000  287.779999  294.589996   63620600.0\n",
       "2021-11-11  304.679993  305.899994  297.769989  303.899994   33217200.0\n",
       "2021-11-12  300.100006  306.799988  296.299988  303.899994   41215100.0\n",
       "\n",
       "[5743 rows x 5 columns]"
      ]
     },
     "execution_count": 2,
     "metadata": {},
     "output_type": "execute_result"
    }
   ],
   "source": [
    "data = pd.read_csv(\"NVidia_stock_history.csv\", index_col=0)\n",
    "data = data.iloc[:, :5]\n",
    "data.index = pd.to_datetime(data.index, format=\"%Y/%m/%d\")\n",
    "data\n"
   ]
  },
  {
   "cell_type": "code",
   "execution_count": 3,
   "metadata": {},
   "outputs": [
    {
     "name": "stdout",
     "output_type": "stream",
     "text": [
      "Date\n",
      "1999-01-22      0.376820\n",
      "1999-01-25      0.416296\n",
      "1999-01-26      0.383998\n",
      "1999-01-27      0.382801\n",
      "1999-01-28      0.381605\n",
      "                 ...    \n",
      "2021-11-08    308.040009\n",
      "2021-11-09    306.570007\n",
      "2021-11-10    294.589996\n",
      "2021-11-11    303.899994\n",
      "2021-11-12    303.899994\n",
      "Name: Close, Length: 5743, dtype: float64\n"
     ]
    }
   ],
   "source": [
    "data_model = data['Close']\n",
    "print(data_model)\n"
   ]
  },
  {
   "cell_type": "code",
   "execution_count": 4,
   "metadata": {},
   "outputs": [
    {
     "data": {
      "text/plain": [
       "<Figure size 864x576 with 0 Axes>"
      ]
     },
     "execution_count": 4,
     "metadata": {},
     "output_type": "execute_result"
    },
    {
     "data": {
      "text/plain": [
       "[<matplotlib.lines.Line2D at 0x149c672ffa0>]"
      ]
     },
     "execution_count": 4,
     "metadata": {},
     "output_type": "execute_result"
    },
    {
     "data": {
      "text/plain": [
       "Text(0.5, 0, 'years')"
      ]
     },
     "execution_count": 4,
     "metadata": {},
     "output_type": "execute_result"
    },
    {
     "data": {
      "text/plain": [
       "Text(0, 0.5, 'stock price')"
      ]
     },
     "execution_count": 4,
     "metadata": {},
     "output_type": "execute_result"
    },
    {
     "data": {
      "text/plain": [
       "Text(0.5, 1.0, 'Nvidia stock price')"
      ]
     },
     "execution_count": 4,
     "metadata": {},
     "output_type": "execute_result"
    },
    {
     "data": {
      "image/png": "[encoded data removed]",
      "text/plain": [
       "<Figure size 864x576 with 1 Axes>"
      ]
     },
     "metadata": {
      "needs_background": "light"
     },
     "output_type": "display_data"
    }
   ],
   "source": [
    "plt.figure(figsize=(12, 8))\n",
    "plt.grid()\n",
    "plt.plot(data_model)\n",
    "plt.xlabel('years')\n",
    "plt.ylabel('stock price')\n",
    "plt.title(\"Nvidia stock price\")\n",
    "plt.show()\n"
   ]
  },
  {
   "cell_type": "code",
   "execution_count": 5,
   "metadata": {},
   "outputs": [
    {
     "data": {
      "text/plain": [
       "Date\n",
       "1999-01-22    0.000206\n",
       "1999-01-25    0.000334\n",
       "1999-01-26    0.000229\n",
       "1999-01-27    0.000225\n",
       "1999-01-28    0.000222\n",
       "                ...   \n",
       "2021-11-08    1.000000\n",
       "2021-11-09    0.995223\n",
       "2021-11-10    0.956292\n",
       "2021-11-11    0.986546\n",
       "2021-11-12    0.986546\n",
       "Name: value, Length: 5743, dtype: float64"
      ]
     },
     "execution_count": 5,
     "metadata": {},
     "output_type": "execute_result"
    }
   ],
   "source": [
    "# Feature Scaling\n",
    "from sklearn.preprocessing import MinMaxScaler\n",
    "sc = MinMaxScaler(feature_range=(0, 1))\n",
    "data_set_scaled = sc.fit_transform(pd.DataFrame(data_model))\n",
    "data_set_df = pd.DataFrame(\n",
    "    data_set_scaled, index=data_model.index, columns=[\"value\"])\n",
    "data_set_df['value']\n"
   ]
  },
  {
   "cell_type": "code",
   "execution_count": 6,
   "metadata": {},
   "outputs": [
    {
     "data": {
      "text/plain": [
       "<Figure size 864x576 with 0 Axes>"
      ]
     },
     "execution_count": 6,
     "metadata": {},
     "output_type": "execute_result"
    },
    {
     "data": {
      "text/plain": [
       "Text(0.5, 0, 'years')"
      ]
     },
     "execution_count": 6,
     "metadata": {},
     "output_type": "execute_result"
    },
    {
     "data": {
      "text/plain": [
       "Text(0, 0.5, 'stock price')"
      ]
     },
     "execution_count": 6,
     "metadata": {},
     "output_type": "execute_result"
    },
    {
     "data": {
      "text/plain": [
       "Text(0.5, 1.0, 'Nvidia stock price')"
      ]
     },
     "execution_count": 6,
     "metadata": {},
     "output_type": "execute_result"
    },
    {
     "data": {
      "text/plain": [
       "[<matplotlib.lines.Line2D at 0x149c8fb81c0>]"
      ]
     },
     "execution_count": 6,
     "metadata": {},
     "output_type": "execute_result"
    },
    {
     "data": {
      "image/png": "[encoded data removed]",
      "text/plain": [
       "<Figure size 864x576 with 1 Axes>"
      ]
     },
     "metadata": {
      "needs_background": "light"
     },
     "output_type": "display_data"
    }
   ],
   "source": [
    "plt.figure(figsize=(12, 8))\n",
    "plt.grid()\n",
    "plt.xlabel('years')\n",
    "plt.ylabel('stock price')\n",
    "plt.title(\"Nvidia stock price\")\n",
    "plt.plot(data_set_df['value'])"
   ]
  },
  {
   "cell_type": "code",
   "execution_count": 7,
   "metadata": {},
   "outputs": [
    {
     "data": {
      "text/plain": [
       "(1730, 1)"
      ]
     },
     "execution_count": 7,
     "metadata": {},
     "output_type": "execute_result"
    }
   ],
   "source": [
    "start_time = pd.to_datetime(\"2015/01/01\", format=\"%Y/%m/%d\")\n",
    "data_set_df = data_set_df.loc[start_time:]\n",
    "data_set_df.shape\n"
   ]
  },
  {
   "cell_type": "code",
   "execution_count": 8,
   "metadata": {},
   "outputs": [
    {
     "data": {
      "text/plain": [
       "<Figure size 864x576 with 0 Axes>"
      ]
     },
     "execution_count": 8,
     "metadata": {},
     "output_type": "execute_result"
    },
    {
     "data": {
      "text/plain": [
       "[<matplotlib.lines.Line2D at 0x149c90423d0>]"
      ]
     },
     "execution_count": 8,
     "metadata": {},
     "output_type": "execute_result"
    },
    {
     "data": {
      "text/plain": [
       "Text(0.5, 0, 'years')"
      ]
     },
     "execution_count": 8,
     "metadata": {},
     "output_type": "execute_result"
    },
    {
     "data": {
      "text/plain": [
       "Text(0, 0.5, 'stock price')"
      ]
     },
     "execution_count": 8,
     "metadata": {},
     "output_type": "execute_result"
    },
    {
     "data": {
      "text/plain": [
       "Text(0.5, 1.0, 'Nvidia stock price')"
      ]
     },
     "execution_count": 8,
     "metadata": {},
     "output_type": "execute_result"
    },
    {
     "data": {
      "image/png": "[encoded data removed]",
      "text/plain": [
       "<Figure size 864x576 with 1 Axes>"
      ]
     },
     "metadata": {
      "needs_background": "light"
     },
     "output_type": "display_data"
    }
   ],
   "source": [
    "plt.figure(figsize=(12, 8))\n",
    "plt.grid()\n",
    "plt.plot(data_set_df)\n",
    "plt.xlabel('years')\n",
    "plt.ylabel('stock price')\n",
    "plt.title(\"Nvidia stock price\")\n",
    "plt.show()\n"
   ]
  },
  {
   "cell_type": "code",
   "execution_count": 9,
   "metadata": {},
   "outputs": [],
   "source": [
    "# initial training set\n",
    "window = 5\n",
    "timestamp = 100\n",
    "amount_of_features = len(data_set_df.columns)\n",
    "\n",
    "data = data_set_df.values\n",
    "sequence_length = window + 1\n",
    "sample = []\n",
    "\n",
    "for index in range(len(data) - sequence_length):\n",
    "    sample.append(data[index: index + sequence_length])\n",
    "result = np.array(sample)\n",
    "\n",
    "x = result[:-timestamp, :]\n",
    "train_x = x[:, :-1]\n",
    "train_y = x[:, -1][:, -1]\n",
    "test_x = result[-timestamp:, :-1]\n",
    "test_y = result[-timestamp:, -1][:, -1]\n",
    "train_x = np.reshape(\n",
    "    train_x, (train_x.shape[0], train_x.shape[1], amount_of_features))\n",
    "test_x = np.reshape(\n",
    "    test_x, (test_x.shape[0], test_x.shape[1], amount_of_features))\n"
   ]
  },
  {
   "cell_type": "code",
   "execution_count": 10,
   "metadata": {},
   "outputs": [
    {
     "name": "stdout",
     "output_type": "stream",
     "text": [
      "train_x (1624, 5, 1)\n",
      "train_y (1624,)\n",
      "test_x  (100, 5, 1)\n",
      "test_y  (100,)\n"
     ]
    }
   ],
   "source": [
    "print(\"train_x\", train_x.shape)\n",
    "print(\"train_y\", train_y.shape)\n",
    "print(\"test_x \", test_x.shape)\n",
    "print(\"test_y \", test_y.shape)\n"
   ]
  },
  {
   "cell_type": "code",
   "execution_count": 11,
   "metadata": {},
   "outputs": [],
   "source": [
    "# Building a function Recurrent Neural Network with Keras\n",
    "# Dropout is being used to prevent overfitting\n",
    "\n",
    "from keras.models import Sequential\n",
    "from keras.layers import Dense\n",
    "from keras.layers import LSTM\n",
    "from keras.layers import Dropout\n"
   ]
  },
  {
   "cell_type": "code",
   "execution_count": 12,
   "metadata": {},
   "outputs": [],
   "source": [
    "# parameters setting\n",
    "epochs = 100\n",
    "batch_size = 512\n"
   ]
  },
  {
   "cell_type": "code",
   "execution_count": 13,
   "metadata": {},
   "outputs": [],
   "source": [
    "# Initialisation\n",
    "# Adding layers and definig the model\n",
    "# this model has 5 hidden layers\n",
    "\n",
    "# Initialisation\n",
    "reg = Sequential()\n",
    "\n",
    "# Layer 1\n",
    "reg.add(LSTM(units=200, return_sequences=True,\n",
    "        input_shape=(train_x.shape[1], 1)))\n",
    "reg.add(Dropout(0.2))\n",
    "# Layer 2\n",
    "reg = Sequential()\n",
    "reg.add(LSTM(units=200, return_sequences=True))\n",
    "reg.add(Dropout(0.2))\n",
    "# Layer 3\n",
    "reg = Sequential()\n",
    "reg.add(LSTM(units=100, return_sequences=True))\n",
    "reg.add(Dropout(0.2))\n",
    "# Layer 4\n",
    "reg = Sequential()\n",
    "reg.add(LSTM(units=100, return_sequences=True))\n",
    "reg.add(Dropout(0.2))\n",
    "# Layer 5\n",
    "reg = Sequential()\n",
    "reg.add(LSTM(units=100))\n",
    "reg.add(Dropout(0.2))\n",
    "reg.add(Dense(4))\n",
    "# Final Output layer\n",
    "reg.add(Dense(units=1, activation='relu'))\n"
   ]
  },
  {
   "cell_type": "code",
   "execution_count": 14,
   "metadata": {},
   "outputs": [],
   "source": [
    "# Compiling our neural network by choosing our loss functions and optimizer\n",
    "# Adam optimizer\n",
    "reg.compile(optimizer='adam', loss='mse')"
   ]
  },
  {
   "cell_type": "code",
   "execution_count": 15,
   "metadata": {},
   "outputs": [
    {
     "name": "stdout",
     "output_type": "stream",
     "text": [
      "Epoch 1/100\n",
      "4/4 [==============================] - 4s 105ms/step - loss: 0.0377 - val_loss: 0.2929\n",
      "Epoch 2/100\n",
      "4/4 [==============================] - 0s 10ms/step - loss: 0.0151 - val_loss: 0.1085\n",
      "Epoch 3/100\n",
      "4/4 [==============================] - 0s 11ms/step - loss: 0.0073 - val_loss: 0.0278\n",
      "Epoch 4/100\n",
      "4/4 [==============================] - 0s 10ms/step - loss: 0.0080 - val_loss: 0.0167\n",
      "Epoch 5/100\n",
      "4/4 [==============================] - 0s 11ms/step - loss: 0.0049 - val_loss: 0.0242\n",
      "Epoch 6/100\n",
      "4/4 [==============================] - 0s 11ms/step - loss: 0.0022 - val_loss: 0.0282\n",
      "Epoch 7/100\n",
      "4/4 [==============================] - 0s 11ms/step - loss: 0.0019 - val_loss: 0.0186\n",
      "Epoch 8/100\n",
      "4/4 [==============================] - 0s 11ms/step - loss: 0.0014 - val_loss: 0.0046\n",
      "Epoch 9/100\n",
      "4/4 [==============================] - 0s 10ms/step - loss: 4.8951e-04 - val_loss: 0.0015\n",
      "Epoch 10/100\n",
      "4/4 [==============================] - 0s 11ms/step - loss: 5.1768e-04 - val_loss: 0.0061\n",
      "Epoch 11/100\n",
      "4/4 [==============================] - 0s 11ms/step - loss: 5.5565e-04 - val_loss: 0.0047\n",
      "Epoch 12/100\n",
      "4/4 [==============================] - 0s 12ms/step - loss: 4.0632e-04 - val_loss: 0.0023\n",
      "Epoch 13/100\n",
      "4/4 [==============================] - 0s 11ms/step - loss: 4.6031e-04 - val_loss: 0.0018\n",
      "Epoch 14/100\n",
      "4/4 [==============================] - 0s 11ms/step - loss: 4.4458e-04 - val_loss: 0.0022\n",
      "Epoch 15/100\n",
      "4/4 [==============================] - 0s 12ms/step - loss: 3.6524e-04 - val_loss: 0.0021\n",
      "Epoch 16/100\n",
      "4/4 [==============================] - 0s 11ms/step - loss: 3.4597e-04 - val_loss: 0.0011\n",
      "Epoch 17/100\n",
      "4/4 [==============================] - 0s 11ms/step - loss: 3.4610e-04 - val_loss: 8.8059e-04\n",
      "Epoch 18/100\n",
      "4/4 [==============================] - 0s 12ms/step - loss: 3.6608e-04 - val_loss: 9.0343e-04\n",
      "Epoch 19/100\n",
      "4/4 [==============================] - 0s 12ms/step - loss: 3.1835e-04 - val_loss: 8.8997e-04\n",
      "Epoch 20/100\n",
      "4/4 [==============================] - 0s 11ms/step - loss: 3.2745e-04 - val_loss: 9.3575e-04\n",
      "Epoch 21/100\n",
      "4/4 [==============================] - 0s 11ms/step - loss: 3.2492e-04 - val_loss: 8.7274e-04\n",
      "Epoch 22/100\n",
      "4/4 [==============================] - 0s 11ms/step - loss: 2.9823e-04 - val_loss: 8.8658e-04\n",
      "Epoch 23/100\n",
      "4/4 [==============================] - 0s 10ms/step - loss: 3.5274e-04 - val_loss: 0.0011\n",
      "Epoch 24/100\n",
      "4/4 [==============================] - 0s 11ms/step - loss: 2.8232e-04 - val_loss: 0.0011\n",
      "Epoch 25/100\n",
      "4/4 [==============================] - 0s 10ms/step - loss: 3.0209e-04 - val_loss: 0.0010\n",
      "Epoch 26/100\n",
      "4/4 [==============================] - 0s 12ms/step - loss: 3.3700e-04 - val_loss: 0.0010\n",
      "Epoch 27/100\n",
      "4/4 [==============================] - 0s 10ms/step - loss: 3.2379e-04 - val_loss: 0.0011\n",
      "Epoch 28/100\n",
      "4/4 [==============================] - 0s 11ms/step - loss: 3.3678e-04 - val_loss: 0.0011\n",
      "Epoch 29/100\n",
      "4/4 [==============================] - 0s 11ms/step - loss: 2.8618e-04 - val_loss: 9.2046e-04\n",
      "Epoch 30/100\n",
      "4/4 [==============================] - 0s 10ms/step - loss: 3.0624e-04 - val_loss: 8.9755e-04\n",
      "Epoch 31/100\n",
      "4/4 [==============================] - 0s 11ms/step - loss: 3.0974e-04 - val_loss: 9.1552e-04\n",
      "Epoch 32/100\n",
      "4/4 [==============================] - 0s 10ms/step - loss: 3.0951e-04 - val_loss: 9.8311e-04\n",
      "Epoch 33/100\n",
      "4/4 [==============================] - 0s 10ms/step - loss: 2.9292e-04 - val_loss: 0.0011\n",
      "Epoch 34/100\n",
      "4/4 [==============================] - 0s 11ms/step - loss: 3.0766e-04 - val_loss: 0.0010\n",
      "Epoch 35/100\n",
      "4/4 [==============================] - 0s 10ms/step - loss: 3.1330e-04 - val_loss: 9.4362e-04\n",
      "Epoch 36/100\n",
      "4/4 [==============================] - 0s 11ms/step - loss: 2.6832e-04 - val_loss: 8.9616e-04\n",
      "Epoch 37/100\n",
      "4/4 [==============================] - 0s 10ms/step - loss: 2.6567e-04 - val_loss: 9.3265e-04\n",
      "Epoch 38/100\n",
      "4/4 [==============================] - 0s 10ms/step - loss: 2.7495e-04 - val_loss: 9.3432e-04\n",
      "Epoch 39/100\n",
      "4/4 [==============================] - 0s 10ms/step - loss: 2.4705e-04 - val_loss: 8.8020e-04\n",
      "Epoch 40/100\n",
      "4/4 [==============================] - 0s 10ms/step - loss: 3.2694e-04 - val_loss: 8.7285e-04\n",
      "Epoch 41/100\n",
      "4/4 [==============================] - 0s 10ms/step - loss: 2.5916e-04 - val_loss: 9.1437e-04\n",
      "Epoch 42/100\n",
      "4/4 [==============================] - 0s 10ms/step - loss: 2.9702e-04 - val_loss: 9.5992e-04\n",
      "Epoch 43/100\n",
      "4/4 [==============================] - 0s 10ms/step - loss: 2.5958e-04 - val_loss: 9.4579e-04\n",
      "Epoch 44/100\n",
      "4/4 [==============================] - 0s 10ms/step - loss: 2.8560e-04 - val_loss: 9.9252e-04\n",
      "Epoch 45/100\n",
      "4/4 [==============================] - 0s 11ms/step - loss: 2.6327e-04 - val_loss: 9.6681e-04\n",
      "Epoch 46/100\n",
      "4/4 [==============================] - 0s 10ms/step - loss: 2.6064e-04 - val_loss: 8.9181e-04\n",
      "Epoch 47/100\n",
      "4/4 [==============================] - 0s 10ms/step - loss: 2.6608e-04 - val_loss: 8.7661e-04\n",
      "Epoch 48/100\n",
      "4/4 [==============================] - 0s 9ms/step - loss: 2.7611e-04 - val_loss: 8.9319e-04\n",
      "Epoch 49/100\n",
      "4/4 [==============================] - 0s 10ms/step - loss: 2.8630e-04 - val_loss: 8.8783e-04\n",
      "Epoch 50/100\n",
      "4/4 [==============================] - 0s 9ms/step - loss: 2.5993e-04 - val_loss: 8.7596e-04\n",
      "Epoch 51/100\n",
      "4/4 [==============================] - 0s 11ms/step - loss: 2.3367e-04 - val_loss: 8.8317e-04\n",
      "Epoch 52/100\n",
      "4/4 [==============================] - 0s 11ms/step - loss: 2.6625e-04 - val_loss: 9.1584e-04\n",
      "Epoch 53/100\n",
      "4/4 [==============================] - 0s 10ms/step - loss: 2.6847e-04 - val_loss: 8.9646e-04\n",
      "Epoch 54/100\n",
      "4/4 [==============================] - 0s 11ms/step - loss: 2.4650e-04 - val_loss: 9.4243e-04\n",
      "Epoch 55/100\n",
      "4/4 [==============================] - 0s 10ms/step - loss: 3.0667e-04 - val_loss: 8.8197e-04\n",
      "Epoch 56/100\n",
      "4/4 [==============================] - 0s 10ms/step - loss: 2.2519e-04 - val_loss: 9.2543e-04\n",
      "Epoch 57/100\n",
      "4/4 [==============================] - 0s 11ms/step - loss: 2.6708e-04 - val_loss: 8.7939e-04\n",
      "Epoch 58/100\n",
      "4/4 [==============================] - 0s 9ms/step - loss: 2.3833e-04 - val_loss: 8.7884e-04\n",
      "Epoch 59/100\n",
      "4/4 [==============================] - 0s 10ms/step - loss: 2.3373e-04 - val_loss: 9.4191e-04\n",
      "Epoch 60/100\n",
      "4/4 [==============================] - 0s 10ms/step - loss: 2.4981e-04 - val_loss: 9.2360e-04\n",
      "Epoch 61/100\n",
      "4/4 [==============================] - 0s 10ms/step - loss: 2.6134e-04 - val_loss: 8.9170e-04\n",
      "Epoch 62/100\n",
      "4/4 [==============================] - 0s 10ms/step - loss: 2.3122e-04 - val_loss: 8.8182e-04\n",
      "Epoch 63/100\n",
      "4/4 [==============================] - 0s 11ms/step - loss: 2.3460e-04 - val_loss: 9.0881e-04\n",
      "Epoch 64/100\n",
      "4/4 [==============================] - 0s 10ms/step - loss: 2.4182e-04 - val_loss: 8.8567e-04\n",
      "Epoch 65/100\n",
      "4/4 [==============================] - 0s 10ms/step - loss: 2.4892e-04 - val_loss: 8.9761e-04\n",
      "Epoch 66/100\n",
      "4/4 [==============================] - 0s 10ms/step - loss: 2.1171e-04 - val_loss: 9.1620e-04\n",
      "Epoch 67/100\n",
      "4/4 [==============================] - 0s 10ms/step - loss: 2.8253e-04 - val_loss: 8.8918e-04\n",
      "Epoch 68/100\n",
      "4/4 [==============================] - 0s 12ms/step - loss: 2.6419e-04 - val_loss: 8.8307e-04\n",
      "Epoch 69/100\n",
      "4/4 [==============================] - 0s 10ms/step - loss: 2.5053e-04 - val_loss: 9.1073e-04\n",
      "Epoch 70/100\n",
      "4/4 [==============================] - 0s 10ms/step - loss: 2.3481e-04 - val_loss: 9.0088e-04\n",
      "Epoch 71/100\n",
      "4/4 [==============================] - 0s 10ms/step - loss: 2.4118e-04 - val_loss: 8.9221e-04\n",
      "Epoch 72/100\n",
      "4/4 [==============================] - 0s 11ms/step - loss: 2.1644e-04 - val_loss: 8.9081e-04\n",
      "Epoch 73/100\n",
      "4/4 [==============================] - 0s 9ms/step - loss: 2.2624e-04 - val_loss: 8.8910e-04\n",
      "Epoch 74/100\n",
      "4/4 [==============================] - 0s 10ms/step - loss: 2.2436e-04 - val_loss: 8.9477e-04\n",
      "Epoch 75/100\n",
      "4/4 [==============================] - 0s 11ms/step - loss: 2.6315e-04 - val_loss: 8.8779e-04\n",
      "Epoch 76/100\n",
      "4/4 [==============================] - 0s 13ms/step - loss: 2.1088e-04 - val_loss: 8.8625e-04\n",
      "Epoch 77/100\n",
      "4/4 [==============================] - 0s 9ms/step - loss: 2.3041e-04 - val_loss: 8.8213e-04\n",
      "Epoch 78/100\n",
      "4/4 [==============================] - 0s 9ms/step - loss: 2.1473e-04 - val_loss: 8.9180e-04\n",
      "Epoch 79/100\n",
      "4/4 [==============================] - 0s 10ms/step - loss: 2.1884e-04 - val_loss: 9.0536e-04\n",
      "Epoch 80/100\n",
      "4/4 [==============================] - 0s 9ms/step - loss: 2.0041e-04 - val_loss: 8.8676e-04\n",
      "Epoch 81/100\n",
      "4/4 [==============================] - 0s 11ms/step - loss: 2.3277e-04 - val_loss: 8.9473e-04\n",
      "Epoch 82/100\n",
      "4/4 [==============================] - 0s 11ms/step - loss: 2.2147e-04 - val_loss: 8.9979e-04\n",
      "Epoch 83/100\n",
      "4/4 [==============================] - 0s 10ms/step - loss: 2.0699e-04 - val_loss: 9.4844e-04\n",
      "Epoch 84/100\n",
      "4/4 [==============================] - 0s 10ms/step - loss: 2.3508e-04 - val_loss: 8.8928e-04\n",
      "Epoch 85/100\n",
      "4/4 [==============================] - 0s 10ms/step - loss: 2.0400e-04 - val_loss: 9.2299e-04\n",
      "Epoch 86/100\n",
      "4/4 [==============================] - 0s 10ms/step - loss: 1.8994e-04 - val_loss: 0.0010\n",
      "Epoch 87/100\n",
      "4/4 [==============================] - 0s 10ms/step - loss: 2.0243e-04 - val_loss: 8.8857e-04\n",
      "Epoch 88/100\n",
      "4/4 [==============================] - 0s 10ms/step - loss: 1.9965e-04 - val_loss: 8.8989e-04\n",
      "Epoch 89/100\n",
      "4/4 [==============================] - 0s 10ms/step - loss: 2.0940e-04 - val_loss: 9.3547e-04\n",
      "Epoch 90/100\n",
      "4/4 [==============================] - 0s 10ms/step - loss: 2.1488e-04 - val_loss: 8.9169e-04\n",
      "Epoch 91/100\n",
      "4/4 [==============================] - 0s 11ms/step - loss: 2.0815e-04 - val_loss: 8.8609e-04\n",
      "Epoch 92/100\n",
      "4/4 [==============================] - 0s 10ms/step - loss: 1.8297e-04 - val_loss: 9.0593e-04\n",
      "Epoch 93/100\n",
      "4/4 [==============================] - 0s 10ms/step - loss: 2.0259e-04 - val_loss: 9.3407e-04\n",
      "Epoch 94/100\n",
      "4/4 [==============================] - 0s 10ms/step - loss: 2.1148e-04 - val_loss: 8.8963e-04\n",
      "Epoch 95/100\n",
      "4/4 [==============================] - 0s 10ms/step - loss: 2.1482e-04 - val_loss: 9.1810e-04\n",
      "Epoch 96/100\n",
      "4/4 [==============================] - 0s 9ms/step - loss: 1.8893e-04 - val_loss: 9.3610e-04\n",
      "Epoch 97/100\n",
      "4/4 [==============================] - 0s 10ms/step - loss: 2.0584e-04 - val_loss: 9.3994e-04\n",
      "Epoch 98/100\n",
      "4/4 [==============================] - 0s 10ms/step - loss: 1.9573e-04 - val_loss: 8.8846e-04\n",
      "Epoch 99/100\n",
      "4/4 [==============================] - 0s 11ms/step - loss: 2.2011e-04 - val_loss: 9.1778e-04\n",
      "Epoch 100/100\n",
      "4/4 [==============================] - 0s 10ms/step - loss: 2.1501e-04 - val_loss: 9.2366e-04\n"
     ]
    }
   ],
   "source": [
    "# Training the model on the training data\n",
    "history = reg.fit(x=train_x, y=train_y, epochs=epochs,\n",
    "        batch_size=batch_size, validation_data=(test_x, test_y))\n"
   ]
  },
  {
   "cell_type": "code",
   "execution_count": 16,
   "metadata": {},
   "outputs": [
    {
     "data": {
      "text/plain": [
       "<Figure size 576x864 with 0 Axes>"
      ]
     },
     "execution_count": 16,
     "metadata": {},
     "output_type": "execute_result"
    },
    {
     "data": {
      "text/plain": [
       "[<matplotlib.lines.Line2D at 0x149bd776610>]"
      ]
     },
     "execution_count": 16,
     "metadata": {},
     "output_type": "execute_result"
    },
    {
     "data": {
      "text/plain": [
       "[<matplotlib.lines.Line2D at 0x149bd7768b0>]"
      ]
     },
     "execution_count": 16,
     "metadata": {},
     "output_type": "execute_result"
    },
    {
     "data": {
      "text/plain": [
       "<matplotlib.legend.Legend at 0x149d13e0fd0>"
      ]
     },
     "execution_count": 16,
     "metadata": {},
     "output_type": "execute_result"
    },
    {
     "data": {
      "text/plain": [
       "Text(0.5, 1.0, 'Training and Validation Loss')"
      ]
     },
     "execution_count": 16,
     "metadata": {},
     "output_type": "execute_result"
    },
    {
     "data": {
      "image/png": "[encoded data removed]",
      "text/plain": [
       "<Figure size 576x864 with 1 Axes>"
      ]
     },
     "metadata": {
      "needs_background": "light"
     },
     "output_type": "display_data"
    }
   ],
   "source": [
    "loss = history.history['loss']\n",
    "val_loss = history.history['val_loss']\n",
    "epochs_range = range(1, len(loss) + 1)\n",
    "\n",
    "plt.figure(figsize=(8,12))\n",
    "plt.plot(epochs_range, loss, label='Training Loss')\n",
    "plt.plot(epochs_range, val_loss, label='Validation Loss')\n",
    "plt.legend(loc='upper right')\n",
    "plt.title('Training and Validation Loss')\n",
    "plt.show()"
   ]
  },
  {
   "cell_type": "code",
   "execution_count": 17,
   "metadata": {},
   "outputs": [],
   "source": [
    "train_y_predict = reg.predict(train_x)[:, 0]\n"
   ]
  },
  {
   "cell_type": "code",
   "execution_count": 18,
   "metadata": {},
   "outputs": [],
   "source": [
    "train_y_ori = sc.inverse_transform(\n",
    "    train_y.reshape(-1, 1)).reshape(train_y.shape)\n",
    "train_y_predict_ori = sc.inverse_transform(\n",
    "    train_y_predict.reshape(-1, 1)).reshape(train_y_predict.shape)\n"
   ]
  },
  {
   "cell_type": "code",
   "execution_count": 19,
   "metadata": {},
   "outputs": [
    {
     "data": {
      "text/plain": [
       "<AxesSubplot:>"
      ]
     },
     "execution_count": 19,
     "metadata": {},
     "output_type": "execute_result"
    },
    {
     "data": {
      "text/plain": [
       "<AxesSubplot:>"
      ]
     },
     "execution_count": 19,
     "metadata": {},
     "output_type": "execute_result"
    },
    {
     "data": {
      "text/plain": [
       "<matplotlib.legend.Legend at 0x149bdd1fe20>"
      ]
     },
     "execution_count": 19,
     "metadata": {},
     "output_type": "execute_result"
    },
    {
     "data": {
      "text/plain": [
       "Text(0.5, 1.0, 'Train Data')"
      ]
     },
     "execution_count": 19,
     "metadata": {},
     "output_type": "execute_result"
    },
    {
     "data": {
      "image/png": "[encoded data removed]",
      "text/plain": [
       "<Figure size 864x432 with 1 Axes>"
      ]
     },
     "metadata": {
      "needs_background": "light"
     },
     "output_type": "display_data"
    }
   ],
   "source": [
    "draw = pd.concat([pd.DataFrame(train_y_ori),\n",
    "                 pd.DataFrame(train_y_predict_ori)], axis=1)\n",
    "draw.iloc[:, 0].plot(figsize=(12, 6))\n",
    "draw.iloc[:, 1].plot(figsize=(12, 6))\n",
    "plt.legend(('real', 'predict'), loc='upper left', fontsize='15')\n",
    "plt.title(\"Train Data\", fontsize='30')\n"
   ]
  },
  {
   "cell_type": "code",
   "execution_count": 20,
   "metadata": {},
   "outputs": [],
   "source": [
    "test_y_predict = reg.predict(test_x)[:, 0]\n"
   ]
  },
  {
   "cell_type": "code",
   "execution_count": 21,
   "metadata": {},
   "outputs": [],
   "source": [
    "test_y_ori = sc.inverse_transform(test_y.reshape(-1, 1)).reshape(test_y.shape)\n",
    "test_y_predict_ori = sc.inverse_transform(\n",
    "    test_y_predict.reshape(-1, 1)).reshape(test_y_predict.shape)\n"
   ]
  },
  {
   "cell_type": "code",
   "execution_count": 22,
   "metadata": {},
   "outputs": [
    {
     "data": {
      "text/plain": [
       "<AxesSubplot:>"
      ]
     },
     "execution_count": 22,
     "metadata": {},
     "output_type": "execute_result"
    },
    {
     "data": {
      "text/plain": [
       "<AxesSubplot:>"
      ]
     },
     "execution_count": 22,
     "metadata": {},
     "output_type": "execute_result"
    },
    {
     "data": {
      "text/plain": [
       "<matplotlib.legend.Legend at 0x149bd908520>"
      ]
     },
     "execution_count": 22,
     "metadata": {},
     "output_type": "execute_result"
    },
    {
     "data": {
      "text/plain": [
       "Text(0.5, 1.0, 'Test Data')"
      ]
     },
     "execution_count": 22,
     "metadata": {},
     "output_type": "execute_result"
    },
    {
     "data": {
      "image/png": "[encoded data removed]",
      "text/plain": [
       "<Figure size 864x432 with 1 Axes>"
      ]
     },
     "metadata": {
      "needs_background": "light"
     },
     "output_type": "display_data"
    }
   ],
   "source": [
    "draw = pd.concat(\n",
    "    [pd.DataFrame(test_y_ori), pd.DataFrame(test_y_predict_ori)], axis=1)\n",
    "draw.iloc[:, 0].plot(figsize=(12, 6))\n",
    "draw.iloc[:, 1].plot(figsize=(12, 6))\n",
    "plt.legend(('real', 'predict'), loc='upper left', fontsize='15')\n",
    "plt.title(\"Test Data\", fontsize='30')\n"
   ]
  },
  {
   "cell_type": "code",
   "execution_count": 23,
   "metadata": {},
   "outputs": [
    {
     "name": "stdout",
     "output_type": "stream",
     "text": [
      "87.46662711801939\n",
      "9.352359441232966\n",
      "6.668003540039063\n"
     ]
    }
   ],
   "source": [
    "# Root mean squared error\n",
    "import math\n",
    "from sklearn.metrics import mean_squared_error,mean_absolute_error\n",
    "rmse = math.sqrt(mean_squared_error(test_y_ori, test_y_predict_ori))\n",
    "mae = mean_absolute_error(test_y_ori, test_y_predict_ori)\n",
    "print(mean_squared_error(test_y_ori, test_y_predict_ori))\n",
    "print(rmse)\n",
    "print(mae)"
   ]
  },
  {
   "cell_type": "code",
   "execution_count": 24,
   "metadata": {},
   "outputs": [
    {
     "name": "stdout",
     "output_type": "stream",
     "text": [
      "5\n",
      "100\n",
      "9.352359441232966\n"
     ]
    }
   ],
   "source": [
    "print(window)\n",
    "print(len(loss))\n",
    "print(rmse)\n",
    "df = pd.DataFrame([loss,val_loss],index=[\"loss\",\"val_loss\"]).T\n",
    "filename = \"window\"+ str(window) + \"epochs\" + str(len(loss)) + \".csv\"\n",
    "# df.to_csv(\"result/\"+filename+\"\", index=False, sep=',')"
   ]
  }
 ],
 "metadata": {
  "interpreter": {
   "hash": "17bbf3a5bfb4194a126b74fa10efaac4540fe1cbe8a5534e70c1c550a5f803ee"
  },
  "kernelspec": {
   "display_name": "Python 3.9.12 ('base')",
   "language": "python",
   "name": "python3"
  },
  "language_info": {
   "codemirror_mode": {
    "name": "ipython",
    "version": 3
   },
   "file_extension": ".py",
   "mimetype": "text/x-python",
   "name": "python",
   "nbconvert_exporter": "python",
   "pygments_lexer": "ipython3",
   "version": "3.9.12"
  },
  "orig_nbformat": 4
 },
 "nbformat": 4,
 "nbformat_minor": 2
}
